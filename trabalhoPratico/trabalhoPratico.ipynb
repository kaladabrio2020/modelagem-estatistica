{
 "cells": [
  {
   "cell_type": "code",
   "execution_count": 57,
   "metadata": {
    "vscode": {
     "languageId": "r"
    }
   },
   "outputs": [],
   "source": [
    "library(zoo)\n",
    "library(tseries)\n",
    "library(data.table)\n",
    "library(ggplot2)\n",
    "library(forecast)"
   ]
  },
  {
   "cell_type": "code",
   "execution_count": 23,
   "metadata": {
    "vscode": {
     "languageId": "r"
    }
   },
   "outputs": [],
   "source": [
    "dataset = fread(\"day.csv\", sep = ',')"
   ]
  },
  {
   "cell_type": "code",
   "execution_count": 24,
   "metadata": {
    "vscode": {
     "languageId": "r"
    }
   },
   "outputs": [
    {
     "data": {
      "text/html": [
       "<table class=\"dataframe\">\n",
       "<caption>A data.table: 5 × 16</caption>\n",
       "<thead>\n",
       "\t<tr><th scope=col>instant</th><th scope=col>dteday</th><th scope=col>season</th><th scope=col>yr</th><th scope=col>mnth</th><th scope=col>holiday</th><th scope=col>weekday</th><th scope=col>workingday</th><th scope=col>weathersit</th><th scope=col>temp</th><th scope=col>atemp</th><th scope=col>hum</th><th scope=col>windspeed</th><th scope=col>casual</th><th scope=col>registered</th><th scope=col>cnt</th></tr>\n",
       "\t<tr><th scope=col>&lt;int&gt;</th><th scope=col>&lt;chr&gt;</th><th scope=col>&lt;int&gt;</th><th scope=col>&lt;int&gt;</th><th scope=col>&lt;int&gt;</th><th scope=col>&lt;int&gt;</th><th scope=col>&lt;int&gt;</th><th scope=col>&lt;int&gt;</th><th scope=col>&lt;int&gt;</th><th scope=col>&lt;dbl&gt;</th><th scope=col>&lt;dbl&gt;</th><th scope=col>&lt;dbl&gt;</th><th scope=col>&lt;dbl&gt;</th><th scope=col>&lt;int&gt;</th><th scope=col>&lt;int&gt;</th><th scope=col>&lt;int&gt;</th></tr>\n",
       "</thead>\n",
       "<tbody>\n",
       "\t<tr><td>1</td><td>01-01-2018</td><td>1</td><td>0</td><td>1</td><td>0</td><td>6</td><td>0</td><td>2</td><td>14.110847</td><td>18.18125</td><td>80.5833</td><td>10.74988</td><td>331</td><td> 654</td><td> 985</td></tr>\n",
       "\t<tr><td>2</td><td>02-01-2018</td><td>1</td><td>0</td><td>1</td><td>0</td><td>0</td><td>0</td><td>2</td><td>14.902598</td><td>17.68695</td><td>69.6087</td><td>16.65211</td><td>131</td><td> 670</td><td> 801</td></tr>\n",
       "\t<tr><td>3</td><td>03-01-2018</td><td>1</td><td>0</td><td>1</td><td>0</td><td>1</td><td>1</td><td>1</td><td> 8.050924</td><td> 9.47025</td><td>43.7273</td><td>16.63670</td><td>120</td><td>1229</td><td>1349</td></tr>\n",
       "\t<tr><td>4</td><td>04-01-2018</td><td>1</td><td>0</td><td>1</td><td>0</td><td>2</td><td>1</td><td>1</td><td> 8.200000</td><td>10.60610</td><td>59.0435</td><td>10.73983</td><td>108</td><td>1454</td><td>1562</td></tr>\n",
       "\t<tr><td>5</td><td>05-01-2018</td><td>1</td><td>0</td><td>1</td><td>0</td><td>3</td><td>1</td><td>1</td><td> 9.305237</td><td>11.46350</td><td>43.6957</td><td>12.52230</td><td> 82</td><td>1518</td><td>1600</td></tr>\n",
       "</tbody>\n",
       "</table>\n"
      ],
      "text/latex": [
       "A data.table: 5 × 16\n",
       "\\begin{tabular}{llllllllllllllll}\n",
       " instant & dteday & season & yr & mnth & holiday & weekday & workingday & weathersit & temp & atemp & hum & windspeed & casual & registered & cnt\\\\\n",
       " <int> & <chr> & <int> & <int> & <int> & <int> & <int> & <int> & <int> & <dbl> & <dbl> & <dbl> & <dbl> & <int> & <int> & <int>\\\\\n",
       "\\hline\n",
       "\t 1 & 01-01-2018 & 1 & 0 & 1 & 0 & 6 & 0 & 2 & 14.110847 & 18.18125 & 80.5833 & 10.74988 & 331 &  654 &  985\\\\\n",
       "\t 2 & 02-01-2018 & 1 & 0 & 1 & 0 & 0 & 0 & 2 & 14.902598 & 17.68695 & 69.6087 & 16.65211 & 131 &  670 &  801\\\\\n",
       "\t 3 & 03-01-2018 & 1 & 0 & 1 & 0 & 1 & 1 & 1 &  8.050924 &  9.47025 & 43.7273 & 16.63670 & 120 & 1229 & 1349\\\\\n",
       "\t 4 & 04-01-2018 & 1 & 0 & 1 & 0 & 2 & 1 & 1 &  8.200000 & 10.60610 & 59.0435 & 10.73983 & 108 & 1454 & 1562\\\\\n",
       "\t 5 & 05-01-2018 & 1 & 0 & 1 & 0 & 3 & 1 & 1 &  9.305237 & 11.46350 & 43.6957 & 12.52230 &  82 & 1518 & 1600\\\\\n",
       "\\end{tabular}\n"
      ],
      "text/markdown": [
       "\n",
       "A data.table: 5 × 16\n",
       "\n",
       "| instant &lt;int&gt; | dteday &lt;chr&gt; | season &lt;int&gt; | yr &lt;int&gt; | mnth &lt;int&gt; | holiday &lt;int&gt; | weekday &lt;int&gt; | workingday &lt;int&gt; | weathersit &lt;int&gt; | temp &lt;dbl&gt; | atemp &lt;dbl&gt; | hum &lt;dbl&gt; | windspeed &lt;dbl&gt; | casual &lt;int&gt; | registered &lt;int&gt; | cnt &lt;int&gt; |\n",
       "|---|---|---|---|---|---|---|---|---|---|---|---|---|---|---|---|\n",
       "| 1 | 01-01-2018 | 1 | 0 | 1 | 0 | 6 | 0 | 2 | 14.110847 | 18.18125 | 80.5833 | 10.74988 | 331 |  654 |  985 |\n",
       "| 2 | 02-01-2018 | 1 | 0 | 1 | 0 | 0 | 0 | 2 | 14.902598 | 17.68695 | 69.6087 | 16.65211 | 131 |  670 |  801 |\n",
       "| 3 | 03-01-2018 | 1 | 0 | 1 | 0 | 1 | 1 | 1 |  8.050924 |  9.47025 | 43.7273 | 16.63670 | 120 | 1229 | 1349 |\n",
       "| 4 | 04-01-2018 | 1 | 0 | 1 | 0 | 2 | 1 | 1 |  8.200000 | 10.60610 | 59.0435 | 10.73983 | 108 | 1454 | 1562 |\n",
       "| 5 | 05-01-2018 | 1 | 0 | 1 | 0 | 3 | 1 | 1 |  9.305237 | 11.46350 | 43.6957 | 12.52230 |  82 | 1518 | 1600 |\n",
       "\n"
      ],
      "text/plain": [
       "  instant dteday     season yr mnth holiday weekday workingday weathersit\n",
       "1 1       01-01-2018 1      0  1    0       6       0          2         \n",
       "2 2       02-01-2018 1      0  1    0       0       0          2         \n",
       "3 3       03-01-2018 1      0  1    0       1       1          1         \n",
       "4 4       04-01-2018 1      0  1    0       2       1          1         \n",
       "5 5       05-01-2018 1      0  1    0       3       1          1         \n",
       "  temp      atemp    hum     windspeed casual registered cnt \n",
       "1 14.110847 18.18125 80.5833 10.74988  331     654        985\n",
       "2 14.902598 17.68695 69.6087 16.65211  131     670        801\n",
       "3  8.050924  9.47025 43.7273 16.63670  120    1229       1349\n",
       "4  8.200000 10.60610 59.0435 10.73983  108    1454       1562\n",
       "5  9.305237 11.46350 43.6957 12.52230   82    1518       1600"
      ]
     },
     "metadata": {},
     "output_type": "display_data"
    }
   ],
   "source": [
    "head(dataset, n = 5)"
   ]
  },
  {
   "cell_type": "code",
   "execution_count": 25,
   "metadata": {
    "vscode": {
     "languageId": "r"
    }
   },
   "outputs": [],
   "source": [
    "dataset[, dteday := as.Date(dteday,format = '%d-%m-%Y')]"
   ]
  },
  {
   "cell_type": "markdown",
   "metadata": {},
   "source": [
    "### Analise de dados"
   ]
  }
 ],
 "metadata": {
  "kernelspec": {
   "display_name": "R",
   "language": "R",
   "name": "ir"
  },
  "language_info": {
   "codemirror_mode": "r",
   "file_extension": ".r",
   "mimetype": "text/x-r-source",
   "name": "R",
   "pygments_lexer": "r",
   "version": "4.4.1"
  }
 },
 "nbformat": 4,
 "nbformat_minor": 2
}
