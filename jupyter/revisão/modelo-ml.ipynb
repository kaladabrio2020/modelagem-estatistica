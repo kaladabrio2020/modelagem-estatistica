{
 "cells": [
  {
   "cell_type": "code",
   "execution_count": 201,
   "metadata": {},
   "outputs": [],
   "source": [
    "import torch\n",
    "import pandas as pd\n",
    "import statsmodels.api\n",
    "import matplotlib.pyplot as plt"
   ]
  },
  {
   "cell_type": "markdown",
   "metadata": {},
   "source": [
    "### Lendo arquivo"
   ]
  },
  {
   "cell_type": "code",
   "execution_count": 202,
   "metadata": {},
   "outputs": [],
   "source": [
    "data = statsmodels.api.datasets.get_rdataset(dataname='mtcars').data"
   ]
  },
  {
   "cell_type": "code",
   "execution_count": 203,
   "metadata": {},
   "outputs": [
    {
     "data": {
      "text/plain": [
       "mpg     25\n",
       "cyl      3\n",
       "disp    27\n",
       "hp      22\n",
       "drat    22\n",
       "wt      29\n",
       "qsec    30\n",
       "vs       2\n",
       "am       2\n",
       "gear     3\n",
       "carb     6\n",
       "dtype: int64"
      ]
     },
     "execution_count": 203,
     "metadata": {},
     "output_type": "execute_result"
    }
   ],
   "source": [
    "data.nunique()"
   ]
  },
  {
   "cell_type": "markdown",
   "metadata": {},
   "source": [
    "fazendo dummies das colunas"
   ]
  },
  {
   "cell_type": "code",
   "execution_count": 204,
   "metadata": {},
   "outputs": [],
   "source": [
    "data_ = pd.get_dummies(\n",
    "    data = data, columns=['cyl', 'vs', 'am', 'gear', 'carb'], dtype=int)"
   ]
  },
  {
   "cell_type": "code",
   "execution_count": 205,
   "metadata": {},
   "outputs": [],
   "source": [
    "y = data_['mpg'].values.reshape(-1, 1)\n",
    "X = data_.drop( columns=['mpg'] ).values"
   ]
  },
  {
   "cell_type": "code",
   "execution_count": 206,
   "metadata": {},
   "outputs": [
    {
     "data": {
      "text/plain": [
       "(32, 21)"
      ]
     },
     "execution_count": 206,
     "metadata": {},
     "output_type": "execute_result"
    }
   ],
   "source": [
    "X.shape"
   ]
  },
  {
   "cell_type": "markdown",
   "metadata": {},
   "source": [
    "criando dataloader"
   ]
  },
  {
   "cell_type": "code",
   "execution_count": 207,
   "metadata": {},
   "outputs": [],
   "source": [
    "X_ = torch.tensor( data=X, dtype=torch.float32 )\n",
    "y_ = torch.tensor( data=y, dtype=torch.float32 )"
   ]
  },
  {
   "cell_type": "code",
   "execution_count": 208,
   "metadata": {},
   "outputs": [],
   "source": [
    "X_[:, :5] = (X_[:, :5] - (X_[:, :5].mean(dim=0))) /  X_[:, :5].std(dim=0)"
   ]
  },
  {
   "cell_type": "code",
   "execution_count": 209,
   "metadata": {},
   "outputs": [
    {
     "data": {
      "text/plain": [
       "tensor([-0.5706, -0.5351,  0.5675, -0.6104, -0.7772,  0.0000,  1.0000,  0.0000,\n",
       "         1.0000,  0.0000,  0.0000,  1.0000,  0.0000,  1.0000,  0.0000,  0.0000,\n",
       "         0.0000,  0.0000,  1.0000,  0.0000,  0.0000])"
      ]
     },
     "execution_count": 209,
     "metadata": {},
     "output_type": "execute_result"
    }
   ],
   "source": [
    "X_[0, :]"
   ]
  },
  {
   "cell_type": "code",
   "execution_count": 210,
   "metadata": {},
   "outputs": [],
   "source": [
    "tensor_ = torch.utils.data.TensorDataset(X_, y_)\n",
    "train_ = torch.utils.data\\\n",
    "                    .DataLoader( tensor_, batch_size=18, shuffle=True)"
   ]
  },
  {
   "cell_type": "markdown",
   "metadata": {},
   "source": [
    "definindo modelo, pesos...."
   ]
  },
  {
   "cell_type": "code",
   "execution_count": 211,
   "metadata": {},
   "outputs": [],
   "source": [
    "weight = torch.randn(21)\n",
    "weight.requires_grad_()\n",
    "bias   = torch.zeros(1, requires_grad=True)\n",
    "\n",
    "def modelo( X ):\n",
    "    return X @ weight.reshape(-1, 1) + bias"
   ]
  },
  {
   "cell_type": "code",
   "execution_count": 212,
   "metadata": {},
   "outputs": [],
   "source": [
    "def huber_loss( input_, output_, delta=1.0, alpha=0.01):\n",
    "    erro_ = (input_ - output_)\n",
    "    pequeno_erro = torch.abs(erro_) <= delta\n",
    "\n",
    "    squared_loss = 0.5 * (erro_.pow(2))\n",
    "    linear_loss  = delta *  ( torch.abs(erro_) - 0.5  * delta)\n",
    "    return torch.where( \n",
    "        pequeno_erro, squared_loss, linear_loss\n",
    "    ).mean()\n",
    "\n",
    "def MSE_loss(input_, output_):\n",
    "    return torch.sqrt( (input_ - output_).pow(2).mean() )"
   ]
  },
  {
   "cell_type": "code",
   "execution_count": 213,
   "metadata": {},
   "outputs": [
    {
     "name": "stdout",
     "output_type": "stream",
     "text": [
      "Epoch 0 --- Loss : 18.923468\n",
      "Epoch 1 --- Loss : 20.935808\n",
      "Epoch 2 --- Loss : 21.159227\n",
      "Epoch 3 --- Loss : 18.858271\n",
      "Epoch 4 --- Loss : 18.534163\n",
      "Epoch 5 --- Loss : 20.894606\n",
      "Epoch 6 --- Loss : 21.919210\n",
      "Epoch 7 --- Loss : 21.116896\n",
      "Epoch 8 --- Loss : 21.464712\n",
      "Epoch 9 --- Loss : 20.662981\n",
      "Epoch 10 --- Loss : 20.411331\n",
      "Epoch 11 --- Loss : 19.386984\n",
      "Epoch 12 --- Loss : 20.174530\n",
      "Epoch 13 --- Loss : 19.058064\n",
      "Epoch 14 --- Loss : 20.398359\n",
      "Epoch 15 --- Loss : 18.641706\n",
      "Epoch 16 --- Loss : 17.273748\n",
      "Epoch 17 --- Loss : 19.950155\n",
      "Epoch 18 --- Loss : 19.525112\n",
      "Epoch 19 --- Loss : 19.031313\n"
     ]
    }
   ],
   "source": [
    "lr = 0.01\n",
    "n_epochs = 20\n",
    "\n",
    "for epoch in range(n_epochs):\n",
    "    for xbatch, ybatch in train_:\n",
    "\n",
    "        pred = modelo(xbatch) \n",
    "\n",
    "        loss = MSE_loss( ybatch, pred)\n",
    "\n",
    "        loss.backward()\n",
    "\n",
    "    with torch.no_grad():\n",
    "        weight -= weight.grad * lr\n",
    "        bias   -= bias.grad * lr\n",
    "\n",
    "        weight.grad.zero_()\n",
    "        bias.grad.zero_()\n",
    "    \n",
    "    if (n_epochs < 20):\n",
    "        print(f'Epoch {epoch} --- Loss : {loss.item():3f}')\n",
    "    else:\n",
    "        if n_epochs % 10 == 0:\n",
    "            print(f'Epoch {epoch} --- Loss : {loss.item():3f}')\n"
   ]
  },
  {
   "cell_type": "code",
   "execution_count": 214,
   "metadata": {},
   "outputs": [],
   "source": [
    "with torch.no_grad():\n",
    "    pred_ = modelo(X_)"
   ]
  },
  {
   "cell_type": "code",
   "execution_count": 215,
   "metadata": {},
   "outputs": [],
   "source": [
    "from sklearn.metrics import *"
   ]
  },
  {
   "cell_type": "code",
   "execution_count": 216,
   "metadata": {},
   "outputs": [
    {
     "data": {
      "text/plain": [
       "(torch.Size([32, 1]), torch.Size([32, 1]))"
      ]
     },
     "execution_count": 216,
     "metadata": {},
     "output_type": "execute_result"
    }
   ],
   "source": [
    "pred_.shape, y_.shape"
   ]
  },
  {
   "cell_type": "code",
   "execution_count": 217,
   "metadata": {},
   "outputs": [
    {
     "data": {
      "text/plain": [
       "19.57974"
      ]
     },
     "execution_count": 217,
     "metadata": {},
     "output_type": "execute_result"
    }
   ],
   "source": [
    "root_mean_squared_error(y_.numpy(), pred_.detach().numpy())"
   ]
  },
  {
   "cell_type": "code",
   "execution_count": 218,
   "metadata": {},
   "outputs": [
    {
     "data": {
      "text/plain": [
       "-9.894498825073242"
      ]
     },
     "execution_count": 218,
     "metadata": {},
     "output_type": "execute_result"
    }
   ],
   "source": [
    "r2_score(y_.numpy(), pred_.detach().numpy())"
   ]
  },
  {
   "cell_type": "code",
   "execution_count": 219,
   "metadata": {},
   "outputs": [
    {
     "data": {
      "image/png": "[encoded data removed]",
      "text/plain": [
       "<Figure size 800x600 with 1 Axes>"
      ]
     },
     "metadata": {},
     "output_type": "display_data"
    }
   ],
   "source": [
    "plt.figure(figsize=(8, 6))\n",
    "plt.scatter(pred_, (y_ - pred_), alpha=0.7)\n",
    "plt.axhline(y=0, color='red', linestyle='--')\n",
    "plt.xlabel(\"Valores previstos\")\n",
    "plt.ylabel(\"Resíduos\")\n",
    "plt.title(\"Gráfico de Resíduos para Regressão Múltipla\")\n",
    "plt.show()\n"
   ]
  },
  {
   "cell_type": "code",
   "execution_count": null,
   "metadata": {},
   "outputs": [],
   "source": []
  }
 ],
 "metadata": {
  "kernelspec": {
   "display_name": "Python 3",
   "language": "python",
   "name": "python3"
  },
  "language_info": {
   "codemirror_mode": {
    "name": "ipython",
    "version": 3
   },
   "file_extension": ".py",
   "mimetype": "text/x-python",
   "name": "python",
   "nbconvert_exporter": "python",
   "pygments_lexer": "ipython3",
   "version": "3.12.6"
  }
 },
 "nbformat": 4,
 "nbformat_minor": 2
}
