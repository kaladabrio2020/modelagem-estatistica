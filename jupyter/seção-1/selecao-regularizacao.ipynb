{
 "cells": [
  {
   "cell_type": "code",
   "execution_count": 70,
   "metadata": {},
   "outputs": [],
   "source": [
    "import pandas as pd \n",
    "import numpy  as np\n",
    "import matplotlib.pyplot as plt\n",
    "\n",
    "import torch \n",
    "import statsmodels.api\n",
    "\n",
    "from sklearn.metrics import *"
   ]
  },
  {
   "cell_type": "code",
   "execution_count": 71,
   "metadata": {},
   "outputs": [],
   "source": [
    "data:pd.DataFrame = statsmodels.api.datasets.get_rdataset('mtcars').data"
   ]
  },
  {
   "cell_type": "code",
   "execution_count": 72,
   "metadata": {},
   "outputs": [],
   "source": [
    "X = data.drop( columns=['mpg']).values\n",
    "y = data['mpg'].values.reshape(-1, 1)"
   ]
  },
  {
   "cell_type": "code",
   "execution_count": 73,
   "metadata": {},
   "outputs": [],
   "source": [
    "X_ = torch.tensor(X, dtype=torch.float32)\n",
    "y_ = torch.tensor(y, dtype=torch.float32)"
   ]
  },
  {
   "cell_type": "code",
   "execution_count": 74,
   "metadata": {},
   "outputs": [
    {
     "data": {
      "text/plain": [
       "16"
      ]
     },
     "execution_count": 74,
     "metadata": {},
     "output_type": "execute_result"
    }
   ],
   "source": [
    "X_.shape[0]//2 "
   ]
  },
  {
   "cell_type": "code",
   "execution_count": 75,
   "metadata": {},
   "outputs": [],
   "source": [
    "X_[:,:6] = (X_[:,:6] - X_[:, :6].mean(dim=0))/X_[:,:6].std(dim=0)"
   ]
  },
  {
   "cell_type": "code",
   "execution_count": 76,
   "metadata": {},
   "outputs": [],
   "source": [
    "tensors_ = torch.utils.data.TensorDataset(X_, y_)"
   ]
  },
  {
   "cell_type": "code",
   "execution_count": 77,
   "metadata": {},
   "outputs": [],
   "source": [
    "train = torch.utils.data.DataLoader(\n",
    "    dataset=tensors_, batch_size=10, shuffle=True\n",
    ")"
   ]
  },
  {
   "cell_type": "markdown",
   "metadata": {},
   "source": [
    "## Regularização L2 (ridge)"
   ]
  },
  {
   "cell_type": "markdown",
   "metadata": {},
   "source": [
    "Uma forma de evitar o overfiting é regularizar o modelo. Ridge reduz o valor de toodos os pesos do modelo, quanto maior o alpha mais se aproxima de 0"
   ]
  },
  {
   "cell_type": "markdown",
   "metadata": {},
   "source": [
    "$$\n",
    "loss =  \\frac{1}{N}\\sum ( y_i - \\hat y_i)^2 + \\lambda \\sum w_i^2\n",
    "$$"
   ]
  },
  {
   "cell_type": "code",
   "execution_count": 78,
   "metadata": {},
   "outputs": [],
   "source": [
    "class ModelRidge:\n",
    "    weight:torch.Tensor = None\n",
    "    bias  :torch.Tensor = None\n",
    "    lambda_:float       = None\n",
    "\n",
    "    def __init__(self, n_features, seed):\n",
    "        torch.manual_seed(seed = seed)\n",
    "        self.weight = torch.randn(n_features, dtype=torch.float32)\n",
    "        self.bias   = torch.zeros(1)\n",
    "\n",
    "    def modelo(self, x):    \n",
    "        return x @ self.weight.reshape(-1, 1) + self.bias\n",
    "    \n",
    "    def MSE_loss(self, input_:torch.Tensor, output_:torch.Tensor):\n",
    "        return (( input_ - output_ ).pow(2).mean()) + (self.lambda_ * self.weight.pow(2).sum())\n",
    "    \n",
    "\n",
    "    def fit(self, train, learn_rate=0.001,n_epoch=10, lambda_=0.001, verbose=True, lambda_weight=False):\n",
    "        self.weight.requires_grad_()\n",
    "        self.bias.requires_grad_()\n",
    "        self.lambda_ = lambda_\n",
    "\n",
    "        for epoch in range(n_epoch):\n",
    "            for enum_, (xbatch, ybatch) in enumerate(train, 1):\n",
    "                pred = self.modelo(xbatch) \n",
    "                \n",
    "                loss = self.MSE_loss(ybatch, pred)\n",
    "                loss.backward()\n",
    "\n",
    "            with torch.no_grad():\n",
    "                self.weight -= self.weight.grad * learn_rate\n",
    "                self.bias   -= self.bias.grad * learn_rate\n",
    "\n",
    "                self.weight.grad.zero_()\n",
    "                self.bias.grad.zero_()\n",
    "\n",
    "            if (verbose and lambda_weight):\n",
    "                if epoch < 10:\n",
    "                    print(f'loss : {loss.item():.2f}', 'L2 : ', lambda_ * self.weight.pow(2).sum())\n",
    "            if (verbose and not(lambda_weight)):\n",
    "                if epoch < 10:\n",
    "                    print('loss : ', loss.item())\n",
    "    def predict(self, x):\n",
    "        with torch.no_grad():\n",
    "            pred_ = self.modelo(x)\n",
    "            \n",
    "        return pred_    "
   ]
  },
  {
   "cell_type": "code",
   "execution_count": 79,
   "metadata": {},
   "outputs": [],
   "source": [
    "Ridge = ModelRidge(n_features=10, seed=10)"
   ]
  },
  {
   "cell_type": "code",
   "execution_count": 80,
   "metadata": {},
   "outputs": [
    {
     "name": "stdout",
     "output_type": "stream",
     "text": [
      "loss : 763.01 L2 :  tensor(0.3233, grad_fn=<MulBackward0>)\n",
      "loss : 406.24 L2 :  tensor(0.3452, grad_fn=<MulBackward0>)\n",
      "loss : 593.59 L2 :  tensor(0.3835, grad_fn=<MulBackward0>)\n"
     ]
    }
   ],
   "source": [
    "Ridge.fit(train, n_epoch=3, lambda_weight=True, lambda_=0.03)"
   ]
  },
  {
   "cell_type": "code",
   "execution_count": 81,
   "metadata": {},
   "outputs": [],
   "source": [
    "pred_ = Ridge.predict(X_)"
   ]
  },
  {
   "cell_type": "code",
   "execution_count": 82,
   "metadata": {},
   "outputs": [
    {
     "data": {
      "text/plain": [
       "tensor(191.9641)"
      ]
     },
     "execution_count": 82,
     "metadata": {},
     "output_type": "execute_result"
    }
   ],
   "source": [
    "(y_ - pred_).pow(2).mean()"
   ]
  },
  {
   "cell_type": "code",
   "execution_count": 83,
   "metadata": {},
   "outputs": [
    {
     "data": {
      "text/plain": [
       "(tensor([[12.7712],\n",
       "         [12.8664]]),\n",
       " tensor([[21.],\n",
       "         [21.]]))"
      ]
     },
     "execution_count": 83,
     "metadata": {},
     "output_type": "execute_result"
    }
   ],
   "source": [
    "pred_[[0,1],:], y_[[0, 1],:]"
   ]
  },
  {
   "cell_type": "code",
   "execution_count": 84,
   "metadata": {},
   "outputs": [
    {
     "data": {
      "text/plain": [
       "-4.4552333725066715"
      ]
     },
     "execution_count": 84,
     "metadata": {},
     "output_type": "execute_result"
    }
   ],
   "source": [
    "r2_score(y_, pred_)"
   ]
  },
  {
   "cell_type": "code",
   "execution_count": 85,
   "metadata": {},
   "outputs": [
    {
     "data": {
      "text/plain": [
       "tensor([-0.8179, -1.2197, -0.5074, -1.0723,  0.6665, -0.2504, -0.5954, -0.7020,\n",
       "         0.4350,  2.7706], requires_grad=True)"
      ]
     },
     "execution_count": 85,
     "metadata": {},
     "output_type": "execute_result"
    }
   ],
   "source": [
    "Ridge.weight"
   ]
  },
  {
   "cell_type": "markdown",
   "metadata": {},
   "source": [
    "## Lasso"
   ]
  },
  {
   "cell_type": "markdown",
   "metadata": {},
   "source": [
    "$$\n",
    "loss =  \\frac{1}{N}\\sum ( y_i - \\hat y_i)^2 + \\lambda \\sum |w_i|\n",
    "$$"
   ]
  },
  {
   "cell_type": "code",
   "execution_count": 86,
   "metadata": {},
   "outputs": [],
   "source": [
    "class ModelLasso:\n",
    "    weight:torch.Tensor = None\n",
    "    bias  :torch.Tensor = None\n",
    "    lambda_:float       = None\n",
    "\n",
    "    def __init__(self, n_features, seed):\n",
    "        torch.manual_seed(seed = seed)\n",
    "        self.weight = torch.randn(n_features, dtype=torch.float32)\n",
    "        self.bias   = torch.zeros(1)\n",
    "\n",
    "    def modelo(self, x):    \n",
    "        return x @ self.weight.reshape(-1, 1) + self.bias\n",
    "    \n",
    "    def MSE_loss(self, input_:torch.Tensor, output_:torch.Tensor):\n",
    "        return (( input_ - output_ ).pow(2).mean()) + (self.lambda_ * self.weight.abs().sum())\n",
    "    \n",
    "\n",
    "    def fit(self, train, learn_rate=0.001,n_epoch=10, lambda_=0.001, verbose=True, lambda_weight=False):\n",
    "        self.weight.requires_grad_()\n",
    "        self.bias.requires_grad_()\n",
    "        self.lambda_ = lambda_\n",
    "\n",
    "        for epoch in range(n_epoch):\n",
    "            for enum_, (xbatch, ybatch) in enumerate(train, 1):\n",
    "                pred = self.modelo(xbatch) \n",
    "                \n",
    "                loss = self.MSE_loss(ybatch, pred)\n",
    "                loss.backward()\n",
    "\n",
    "            with torch.no_grad():\n",
    "                self.weight -= self.weight.grad * learn_rate\n",
    "                self.bias   -= self.bias.grad * learn_rate\n",
    "\n",
    "                self.weight.grad.zero_()\n",
    "                self.bias.grad.zero_()\n",
    "\n",
    "            if (verbose and lambda_weight):\n",
    "                if epoch < 10:\n",
    "                    print(f'loss : {loss.item():.2f}', 'L2 : ', lambda_ * self.weight.pow(2).sum())\n",
    "            \n",
    "            if (verbose and not(lambda_weight)):\n",
    "                if epoch < 10:\n",
    "                    print('loss : ', loss.item())\n",
    "    def predict(self, x):\n",
    "        with torch.no_grad():\n",
    "            pred_ = self.modelo(x)\n",
    "            \n",
    "        return pred_    "
   ]
  },
  {
   "cell_type": "code",
   "execution_count": 87,
   "metadata": {},
   "outputs": [],
   "source": [
    "lasso = ModelLasso(n_features=10, seed=10)"
   ]
  },
  {
   "cell_type": "code",
   "execution_count": 88,
   "metadata": {},
   "outputs": [
    {
     "name": "stdout",
     "output_type": "stream",
     "text": [
      "loss :  762.6995239257812\n",
      "loss :  370.15570068359375\n",
      "loss :  480.9087829589844\n",
      "loss :  370.49810791015625\n",
      "loss :  547.6058349609375\n",
      "loss :  807.0325317382812\n",
      "loss :  555.5657958984375\n",
      "loss :  240.39576721191406\n",
      "loss :  489.7578125\n",
      "loss :  188.908935546875\n"
     ]
    }
   ],
   "source": [
    "lasso.fit(train, learn_rate=0.01)"
   ]
  },
  {
   "cell_type": "code",
   "execution_count": 89,
   "metadata": {},
   "outputs": [
    {
     "data": {
      "text/plain": [
       "tensor([-1.8797, -1.7856, -2.2671, -1.6928, -0.7114,  0.9555,  0.3122, -0.7511,\n",
       "         1.6775, -0.7309], requires_grad=True)"
      ]
     },
     "execution_count": 89,
     "metadata": {},
     "output_type": "execute_result"
    }
   ],
   "source": [
    "lasso.weight"
   ]
  },
  {
   "cell_type": "code",
   "execution_count": 90,
   "metadata": {},
   "outputs": [],
   "source": [
    "pred_ = Ridge.predict(X_)"
   ]
  },
  {
   "cell_type": "code",
   "execution_count": 91,
   "metadata": {},
   "outputs": [
    {
     "data": {
      "text/plain": [
       "tensor(10.8217)"
      ]
     },
     "execution_count": 91,
     "metadata": {},
     "output_type": "execute_result"
    }
   ],
   "source": [
    "(y_ - pred_).mean()"
   ]
  },
  {
   "cell_type": "code",
   "execution_count": 92,
   "metadata": {},
   "outputs": [
    {
     "data": {
      "text/plain": [
       "-4.4552333725066715"
      ]
     },
     "execution_count": 92,
     "metadata": {},
     "output_type": "execute_result"
    }
   ],
   "source": [
    "r2_score(y_, pred_)"
   ]
  },
  {
   "cell_type": "code",
   "execution_count": null,
   "metadata": {},
   "outputs": [],
   "source": []
  },
  {
   "cell_type": "code",
   "execution_count": null,
   "metadata": {},
   "outputs": [],
   "source": []
  }
 ],
 "metadata": {
  "kernelspec": {
   "display_name": "Python 3",
   "language": "python",
   "name": "python3"
  },
  "language_info": {
   "codemirror_mode": {
    "name": "ipython",
    "version": 3
   },
   "file_extension": ".py",
   "mimetype": "text/x-python",
   "name": "python",
   "nbconvert_exporter": "python",
   "pygments_lexer": "ipython3",
   "version": "3.12.7"
  }
 },
 "nbformat": 4,
 "nbformat_minor": 2
}
