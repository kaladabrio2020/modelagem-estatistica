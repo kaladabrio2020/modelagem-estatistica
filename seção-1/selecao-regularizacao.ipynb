{
 "cells": [
  {
   "cell_type": "code",
   "execution_count": 333,
   "metadata": {},
   "outputs": [],
   "source": [
    "import pandas as pd \n",
    "import numpy  as np\n",
    "import matplotlib.pyplot as plt\n",
    "\n",
    "import torch \n",
    "import statsmodels.api\n",
    "\n",
    "from sklearn.metrics import *"
   ]
  },
  {
   "cell_type": "code",
   "execution_count": 334,
   "metadata": {},
   "outputs": [],
   "source": [
    "data:pd.DataFrame = statsmodels.api.datasets.get_rdataset('mtcars').data"
   ]
  },
  {
   "cell_type": "code",
   "execution_count": 335,
   "metadata": {},
   "outputs": [],
   "source": [
    "X = data.drop( columns=['mpg']).values\n",
    "y = data['mpg'].values.reshape(-1, 1)"
   ]
  },
  {
   "cell_type": "code",
   "execution_count": 336,
   "metadata": {},
   "outputs": [],
   "source": [
    "X_ = torch.tensor(X, dtype=torch.float32)\n",
    "y_ = torch.tensor(y, dtype=torch.float32)"
   ]
  },
  {
   "cell_type": "code",
   "execution_count": 337,
   "metadata": {},
   "outputs": [
    {
     "data": {
      "text/plain": [
       "16"
      ]
     },
     "execution_count": 337,
     "metadata": {},
     "output_type": "execute_result"
    }
   ],
   "source": [
    "X_.shape[0]//2 "
   ]
  },
  {
   "cell_type": "code",
   "execution_count": 338,
   "metadata": {},
   "outputs": [],
   "source": [
    "X_[:,:] = (X_[:,:] - X_[:, :].mean(dim=0))/X_[:,:].std(dim=0)"
   ]
  },
  {
   "cell_type": "code",
   "execution_count": 339,
   "metadata": {},
   "outputs": [],
   "source": [
    "tensors_ = torch.utils.data.TensorDataset(X_, y_)"
   ]
  },
  {
   "cell_type": "code",
   "execution_count": 340,
   "metadata": {},
   "outputs": [],
   "source": [
    "train = torch.utils.data.DataLoader(\n",
    "    dataset=tensors_, batch_size=32, shuffle=True\n",
    ")"
   ]
  },
  {
   "cell_type": "markdown",
   "metadata": {},
   "source": [
    "## Regularização L2 (ridge)"
   ]
  },
  {
   "cell_type": "markdown",
   "metadata": {},
   "source": [
    "Uma forma de evitar o overfiting é regularizar o modelo. Ridge reduz o valor de toodos os pesos do modelo, quanto maior o alpha mais se aproxima de 0"
   ]
  },
  {
   "cell_type": "markdown",
   "metadata": {},
   "source": [
    "$$\n",
    "loss =  \\frac{1}{N}\\sum ( y_i - \\hat y_i)^2 + \\lambda \\sum w_i^2\n",
    "$$"
   ]
  },
  {
   "cell_type": "code",
   "execution_count": 341,
   "metadata": {},
   "outputs": [],
   "source": [
    "class ModelRidge:\n",
    "    weight:torch.Tensor = None\n",
    "    bias  :torch.Tensor = None\n",
    "    lambda_:float       = None\n",
    "\n",
    "    def __init__(self, n_features, seed):\n",
    "        torch.manual_seed(seed = seed)\n",
    "        self.weight = torch.randn(n_features, dtype=torch.float32)\n",
    "        self.bias   = torch.zeros(1)\n",
    "\n",
    "    def modelo(self, x):    \n",
    "        return x @ self.weight.reshape(-1, 1) + self.bias\n",
    "    \n",
    "    def MSE_loss(self, input_:torch.Tensor, output_:torch.Tensor):\n",
    "        return (( input_ - output_ ).pow(2).mean())\n",
    "    \n",
    "\n",
    "    def fit(self, train, learn_rate=0.001,n_epoch=10, lambda_=0.001, verbose=True, lambda_weight=False):\n",
    "        self.weight.requires_grad_()\n",
    "        self.bias.requires_grad_()\n",
    "        self.lambda_ = lambda_\n",
    "\n",
    "        for epoch in range(n_epoch):\n",
    "            for enum_, (xbatch, ybatch) in enumerate(train, 1):\n",
    "                pred = self.modelo(xbatch) \n",
    "                \n",
    "                loss = self.MSE_loss(ybatch, pred)\n",
    "                loss.backward()\n",
    "\n",
    "            with torch.no_grad():\n",
    "                self.weight -= self.weight.grad * learn_rate\n",
    "                self.bias   -= self.bias.grad * learn_rate\n",
    "\n",
    "                self.weight.grad.zero_()\n",
    "                self.bias.grad.zero_()\n",
    "\n",
    "            if (verbose and lambda_weight):\n",
    "                if epoch < 10:\n",
    "                    print(f'loss : {loss.item():.2f}', 'L2 : ', lambda_ * self.weight.pow(2).sum())\n",
    "            if (verbose and not(lambda_weight)):\n",
    "                if epoch < 10:\n",
    "                    print('loss : ', loss.item())\n",
    "    def predict(self, x):\n",
    "        with torch.no_grad():\n",
    "            pred_ = self.modelo(x)\n",
    "            \n",
    "        return pred_    "
   ]
  },
  {
   "cell_type": "code",
   "execution_count": 342,
   "metadata": {},
   "outputs": [],
   "source": [
    "Ridge = ModelRidge(n_features=10, seed=10)"
   ]
  },
  {
   "cell_type": "code",
   "execution_count": 343,
   "metadata": {},
   "outputs": [
    {
     "name": "stdout",
     "output_type": "stream",
     "text": [
      "loss : 484.36 L2 :  tensor(0.3169, grad_fn=<MulBackward0>)\n",
      "loss : 481.17 L2 :  tensor(0.3137, grad_fn=<MulBackward0>)\n",
      "loss : 478.02 L2 :  tensor(0.3106, grad_fn=<MulBackward0>)\n",
      "loss : 474.91 L2 :  tensor(0.3076, grad_fn=<MulBackward0>)\n",
      "loss : 471.84 L2 :  tensor(0.3048, grad_fn=<MulBackward0>)\n",
      "loss : 468.81 L2 :  tensor(0.3020, grad_fn=<MulBackward0>)\n",
      "loss : 465.82 L2 :  tensor(0.2994, grad_fn=<MulBackward0>)\n",
      "loss : 462.86 L2 :  tensor(0.2968, grad_fn=<MulBackward0>)\n",
      "loss : 459.94 L2 :  tensor(0.2944, grad_fn=<MulBackward0>)\n",
      "loss : 457.06 L2 :  tensor(0.2921, grad_fn=<MulBackward0>)\n"
     ]
    }
   ],
   "source": [
    "Ridge.fit(train, n_epoch=80, lambda_weight=True, lambda_=0.03)"
   ]
  },
  {
   "cell_type": "code",
   "execution_count": 344,
   "metadata": {},
   "outputs": [],
   "source": [
    "pred_ = Ridge.predict(X_)"
   ]
  },
  {
   "cell_type": "code",
   "execution_count": 345,
   "metadata": {},
   "outputs": [
    {
     "data": {
      "text/plain": [
       "tensor(314.0753)"
      ]
     },
     "execution_count": 345,
     "metadata": {},
     "output_type": "execute_result"
    }
   ],
   "source": [
    "(y_ - pred_).pow(2).mean()"
   ]
  },
  {
   "cell_type": "code",
   "execution_count": 346,
   "metadata": {},
   "outputs": [
    {
     "data": {
      "text/plain": [
       "(tensor([[4.9106],\n",
       "         [4.9204]]),\n",
       " tensor([[21.],\n",
       "         [21.]]))"
      ]
     },
     "execution_count": 346,
     "metadata": {},
     "output_type": "execute_result"
    }
   ],
   "source": [
    "pred_[[0,1],:], y_[[0, 1],:]"
   ]
  },
  {
   "cell_type": "code",
   "execution_count": 347,
   "metadata": {},
   "outputs": [
    {
     "data": {
      "text/plain": [
       "-7.925389579092299"
      ]
     },
     "execution_count": 347,
     "metadata": {},
     "output_type": "execute_result"
    }
   ],
   "source": [
    "r2_score(y_, pred_)"
   ]
  },
  {
   "cell_type": "code",
   "execution_count": 348,
   "metadata": {},
   "outputs": [
    {
     "data": {
      "text/plain": [
       "tensor([-1.4062, -1.7904, -1.0037, -0.5168,  0.0527, -0.0127, -0.2460, -0.3089,\n",
       "        -0.6781,  1.3436], requires_grad=True)"
      ]
     },
     "execution_count": 348,
     "metadata": {},
     "output_type": "execute_result"
    }
   ],
   "source": [
    "Ridge.weight"
   ]
  },
  {
   "cell_type": "markdown",
   "metadata": {},
   "source": [
    "## Lasso"
   ]
  },
  {
   "cell_type": "markdown",
   "metadata": {},
   "source": [
    "$$\n",
    "loss =  \\frac{1}{N}\\sum ( y_i - \\hat y_i)^2 + \\lambda \\sum |w_i|\n",
    "$$"
   ]
  },
  {
   "cell_type": "code",
   "execution_count": 349,
   "metadata": {},
   "outputs": [],
   "source": [
    "class ModelLasso:\n",
    "    weight:torch.Tensor = None\n",
    "    bias  :torch.Tensor = None\n",
    "    lambda_:float       = None\n",
    "\n",
    "    def __init__(self, n_features, seed):\n",
    "        torch.manual_seed(seed = seed)\n",
    "        self.weight = torch.randn(n_features, dtype=torch.float32)\n",
    "        self.bias   = torch.zeros(1)\n",
    "\n",
    "    def modelo(self, x):    \n",
    "        return x @ self.weight.reshape(-1, 1) + self.bias\n",
    "    \n",
    "    def MSE_loss(self, input_:torch.Tensor, output_:torch.Tensor):\n",
    "        return (( input_ - output_ ).pow(2).mean()) + (self.lambda_ * self.weight.abs().sum())\n",
    "    \n",
    "\n",
    "    def fit(self, train, learn_rate=0.001,n_epoch=10, lambda_=0.001, verbose=True, lambda_weight=False):\n",
    "        self.weight.requires_grad_()\n",
    "        self.bias.requires_grad_()\n",
    "        self.lambda_ = lambda_\n",
    "\n",
    "        for epoch in range(n_epoch):\n",
    "            for enum_, (xbatch, ybatch) in enumerate(train, 1):\n",
    "                pred = self.modelo(xbatch) \n",
    "                \n",
    "                loss = self.MSE_loss(ybatch, pred)\n",
    "                loss.backward()\n",
    "\n",
    "            with torch.no_grad():\n",
    "                self.weight -= self.weight.grad * learn_rate\n",
    "                self.bias   -= self.bias.grad * learn_rate\n",
    "\n",
    "            self.weight.grad.zero_()\n",
    "            self.bias.grad.zero_()\n",
    "\n",
    "            if (verbose and lambda_weight):\n",
    "                if epoch < 10:\n",
    "                    print(f'loss : {loss.item():.2f}', 'L2 : ', lambda_ * self.weight.pow(2).sum())\n",
    "            \n",
    "            if (verbose and not(lambda_weight)):\n",
    "                if epoch < 10:\n",
    "                    print('loss : ', loss.item())\n",
    "                else: \n",
    "                    if epoch % 10 == 0: print(loss.item())\n",
    "    def predict(self, x):\n",
    "        with torch.no_grad():\n",
    "            pred_ = self.modelo(x)\n",
    "            \n",
    "        return pred_    "
   ]
  },
  {
   "cell_type": "code",
   "execution_count": 350,
   "metadata": {},
   "outputs": [],
   "source": [
    "lasso = ModelLasso(n_features=10, seed=10)"
   ]
  },
  {
   "cell_type": "code",
   "execution_count": 351,
   "metadata": {},
   "outputs": [
    {
     "name": "stdout",
     "output_type": "stream",
     "text": [
      "loss :  484.37127685546875\n",
      "loss :  453.3959655761719\n",
      "loss :  426.1936340332031\n",
      "loss :  402.0782470703125\n",
      "loss :  380.5040283203125\n",
      "loss :  361.0361022949219\n",
      "loss :  343.32720947265625\n",
      "loss :  327.0994567871094\n",
      "loss :  312.1297607421875\n",
      "loss :  298.23870849609375\n"
     ]
    }
   ],
   "source": [
    "lasso.fit(train, learn_rate=0.01, n_epoch=10)"
   ]
  },
  {
   "cell_type": "code",
   "execution_count": 352,
   "metadata": {},
   "outputs": [
    {
     "data": {
      "text/plain": [
       "tensor([-1.5404, -1.9187, -1.1211, -0.3931, -0.1016,  0.0378, -0.1440, -0.1907,\n",
       "        -0.5887,  1.2396], requires_grad=True)"
      ]
     },
     "execution_count": 352,
     "metadata": {},
     "output_type": "execute_result"
    }
   ],
   "source": [
    "lasso.weight"
   ]
  },
  {
   "cell_type": "code",
   "execution_count": 353,
   "metadata": {},
   "outputs": [],
   "source": [
    "pred_ = Ridge.predict(X_)"
   ]
  },
  {
   "cell_type": "code",
   "execution_count": 354,
   "metadata": {},
   "outputs": [
    {
     "data": {
      "text/plain": [
       "tensor([[ 4.9106],\n",
       "        [ 4.9204],\n",
       "        [ 4.5187],\n",
       "        [ 2.8529],\n",
       "        [ 0.1346],\n",
       "        [ 3.7198],\n",
       "        [ 0.7309],\n",
       "        [ 6.0560],\n",
       "        [ 5.4131],\n",
       "        [ 4.7533],\n",
       "        [ 4.7490],\n",
       "        [ 2.2182],\n",
       "        [ 2.1985],\n",
       "        [ 2.1984],\n",
       "        [ 0.0445],\n",
       "        [ 0.0144],\n",
       "        [-0.1400],\n",
       "        [ 5.1023],\n",
       "        [ 5.3361],\n",
       "        [ 5.0687],\n",
       "        [ 5.9663],\n",
       "        [ 1.4897],\n",
       "        [ 1.3074],\n",
       "        [ 0.3904],\n",
       "        [-0.3539],\n",
       "        [ 5.0878],\n",
       "        [ 4.2144],\n",
       "        [ 4.3710],\n",
       "        [-2.8627],\n",
       "        [ 5.2059],\n",
       "        [ 0.8257],\n",
       "        [ 4.7020]])"
      ]
     },
     "execution_count": 354,
     "metadata": {},
     "output_type": "execute_result"
    }
   ],
   "source": [
    "pred_"
   ]
  },
  {
   "cell_type": "code",
   "execution_count": 355,
   "metadata": {},
   "outputs": [
    {
     "data": {
      "text/plain": [
       "tensor(17.1174)"
      ]
     },
     "execution_count": 355,
     "metadata": {},
     "output_type": "execute_result"
    }
   ],
   "source": [
    "(y_ - pred_).mean()"
   ]
  },
  {
   "cell_type": "code",
   "execution_count": 356,
   "metadata": {},
   "outputs": [
    {
     "data": {
      "text/plain": [
       "(tensor([4.9106]), tensor([21.]))"
      ]
     },
     "execution_count": 356,
     "metadata": {},
     "output_type": "execute_result"
    }
   ],
   "source": [
    "pred_[0], y_[0]"
   ]
  },
  {
   "cell_type": "code",
   "execution_count": 357,
   "metadata": {},
   "outputs": [
    {
     "data": {
      "text/plain": [
       "-7.925389579092299"
      ]
     },
     "execution_count": 357,
     "metadata": {},
     "output_type": "execute_result"
    }
   ],
   "source": [
    "r2_score(y_, pred_)"
   ]
  },
  {
   "cell_type": "markdown",
   "metadata": {},
   "source": [
    "No keras"
   ]
  },
  {
   "cell_type": "code",
   "execution_count": 358,
   "metadata": {},
   "outputs": [],
   "source": [
    "import tensorflow as tf\n",
    "import keras "
   ]
  },
  {
   "cell_type": "code",
   "execution_count": 359,
   "metadata": {},
   "outputs": [],
   "source": [
    "def modelo(x, weights, bias):\n",
    "    return tf.matmul(x, weights) + bias"
   ]
  },
  {
   "cell_type": "code",
   "execution_count": 360,
   "metadata": {},
   "outputs": [],
   "source": [
    "X = X.astype(np.float32)\n",
    "y = y.astype(np.float32)"
   ]
  },
  {
   "cell_type": "code",
   "execution_count": 361,
   "metadata": {},
   "outputs": [],
   "source": [
    "X =( X - X.mean(0) ) / X.std(0)"
   ]
  },
  {
   "cell_type": "code",
   "execution_count": 362,
   "metadata": {},
   "outputs": [
    {
     "data": {
      "text/plain": [
       "(32, 10)"
      ]
     },
     "execution_count": 362,
     "metadata": {},
     "output_type": "execute_result"
    }
   ],
   "source": [
    "X.shape"
   ]
  },
  {
   "cell_type": "code",
   "execution_count": 363,
   "metadata": {},
   "outputs": [],
   "source": [
    "data = tf.data.Dataset.from_tensor_slices((X, y))\n",
    "train = data\\\n",
    "            .batch( 32 )\\\n",
    "            .shuffle(10,)"
   ]
  },
  {
   "cell_type": "code",
   "execution_count": 364,
   "metadata": {},
   "outputs": [
    {
     "name": "stdout",
     "output_type": "stream",
     "text": [
      "447.789\n",
      "423.4589\n",
      "401.5676\n",
      "381.69855\n",
      "363.52106\n",
      "346.77194\n",
      "331.24106\n",
      "316.75983\n",
      "303.1925\n",
      "290.42914\n",
      "278.38013\n",
      "266.97192\n",
      "256.14374\n",
      "245.84485\n",
      "236.03255\n",
      "226.67055\n",
      "217.72766\n",
      "209.17685\n",
      "200.99442\n",
      "193.15929\n",
      "185.65274\n",
      "178.4578\n",
      "171.55904\n",
      "164.94229\n",
      "158.59448\n",
      "152.50348\n",
      "146.65793\n",
      "141.04721\n",
      "135.66129\n",
      "130.49069\n",
      "125.52644\n",
      "120.76003\n",
      "116.18333\n",
      "111.78862\n",
      "107.56851\n",
      "103.51596\n",
      "99.62422\n",
      "95.88685\n",
      "92.29765\n",
      "88.85073\n",
      "85.54038\n",
      "82.361176\n",
      "79.30789\n",
      "76.37552\n",
      "73.55926\n",
      "70.85449\n",
      "68.256805\n",
      "65.76193\n",
      "63.365807\n",
      "61.06449\n",
      "58.85427\n",
      "56.73149\n",
      "54.692703\n",
      "52.73458\n",
      "50.85392\n",
      "49.04767\n",
      "47.31285\n",
      "45.646667\n",
      "44.04637\n",
      "42.50937\n",
      "41.033157\n",
      "39.61532\n",
      "38.253548\n",
      "36.94562\n",
      "35.6894\n",
      "34.48285\n",
      "33.324\n",
      "32.210953\n",
      "31.141914\n",
      "30.11512\n",
      "29.128902\n",
      "28.181664\n",
      "27.271862\n",
      "26.397999\n",
      "25.558664\n",
      "24.752491\n",
      "23.978157\n",
      "23.23442\n",
      "22.520054\n",
      "21.833897\n",
      "21.174837\n",
      "20.541805\n",
      "19.933762\n",
      "19.349718\n",
      "18.788727\n",
      "18.249868\n",
      "17.732273\n",
      "17.235107\n",
      "16.757545\n",
      "16.298828\n",
      "15.858204\n",
      "15.434954\n",
      "15.028397\n",
      "14.637861\n",
      "14.262725\n",
      "13.902363\n",
      "13.556202\n",
      "13.223678\n",
      "12.904252\n",
      "12.597412\n"
     ]
    }
   ],
   "source": [
    "optim = keras.optimizers.SGD(learning_rate = 0.01, nesterov=True)\n",
    "loss_ = keras.losses.mean_squared_error\n",
    "\n",
    "tf.random.set_seed(1)\n",
    "\n",
    "weights = tf.random.normal((10, 1), 0, 1, dtype=tf.float32)\n",
    "weights = tf.Variable(weights)\n",
    "\n",
    "bias    = tf.zeros(1, dtype=tf.float32)\n",
    "bias    = tf.Variable(bias)\n",
    "\n",
    "for epoch in range(100):\n",
    "    for xbatch, ybatch in train:\n",
    "        with tf.GradientTape() as tape:\n",
    "            pred = modelo(xbatch, weights, bias)\n",
    "            \n",
    "            loss = tf.reduce_mean(loss_(ybatch, pred))\n",
    "        gradient = tape.gradient(loss, [weights, bias])\n",
    "        optim.apply_gradients(\n",
    "            zip(gradient, [weights, bias])\n",
    "            )\n",
    "       \n",
    "    print(loss.numpy())"
   ]
  },
  {
   "cell_type": "code",
   "execution_count": 365,
   "metadata": {},
   "outputs": [],
   "source": [
    "pred = modelo(X, weights, bias)"
   ]
  },
  {
   "cell_type": "code",
   "execution_count": 366,
   "metadata": {},
   "outputs": [
    {
     "data": {
      "text/plain": [
       "np.float32(2.918015)"
      ]
     },
     "execution_count": 366,
     "metadata": {},
     "output_type": "execute_result"
    }
   ],
   "source": [
    "tf.reduce_mean(tf.abs(pred - y)).numpy()"
   ]
  },
  {
   "cell_type": "code",
   "execution_count": 367,
   "metadata": {},
   "outputs": [
    {
     "data": {
      "text/plain": [
       "0.6503836512565613"
      ]
     },
     "execution_count": 367,
     "metadata": {},
     "output_type": "execute_result"
    }
   ],
   "source": [
    "r2_score(y, pred.numpy())"
   ]
  }
 ],
 "metadata": {
  "kernelspec": {
   "display_name": "Python 3",
   "language": "python",
   "name": "python3"
  },
  "language_info": {
   "codemirror_mode": {
    "name": "ipython",
    "version": 3
   },
   "file_extension": ".py",
   "mimetype": "text/x-python",
   "name": "python",
   "nbconvert_exporter": "python",
   "pygments_lexer": "ipython3",
   "version": "3.12.7"
  }
 },
 "nbformat": 4,
 "nbformat_minor": 2
}
